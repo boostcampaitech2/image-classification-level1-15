{
 "cells": [
  {
   "cell_type": "code",
   "execution_count": 75,
   "id": "063d02d1",
   "metadata": {},
   "outputs": [],
   "source": [
    "a=torch.Tensor([[1,2],[3,4]])"
   ]
  },
  {
   "cell_type": "code",
   "execution_count": 79,
   "id": "89448dc8",
   "metadata": {},
   "outputs": [],
   "source": [
    "b = torch.cat((a, a, a), dim=0)\n",
    "c = torch.stack((a, a, a), dim=0)\n",
    "d = torch.stack((a, a, a), dim=1)"
   ]
  },
  {
   "cell_type": "code",
   "execution_count": 80,
   "id": "c49b9c8d",
   "metadata": {},
   "outputs": [
    {
     "data": {
      "text/plain": [
       "tensor([[1., 2.],\n",
       "        [3., 4.],\n",
       "        [1., 2.],\n",
       "        [3., 4.],\n",
       "        [1., 2.],\n",
       "        [3., 4.]])"
      ]
     },
     "execution_count": 80,
     "metadata": {},
     "output_type": "execute_result"
    }
   ],
   "source": [
    "b"
   ]
  },
  {
   "cell_type": "code",
   "execution_count": 81,
   "id": "d1881a8d",
   "metadata": {},
   "outputs": [
    {
     "data": {
      "text/plain": [
       "tensor([[[1., 2.],\n",
       "         [3., 4.]],\n",
       "\n",
       "        [[1., 2.],\n",
       "         [3., 4.]],\n",
       "\n",
       "        [[1., 2.],\n",
       "         [3., 4.]]])"
      ]
     },
     "execution_count": 81,
     "metadata": {},
     "output_type": "execute_result"
    }
   ],
   "source": [
    "c"
   ]
  },
  {
   "cell_type": "code",
   "execution_count": 82,
   "id": "4748bfce",
   "metadata": {},
   "outputs": [
    {
     "data": {
      "text/plain": [
       "tensor([[[1., 2.],\n",
       "         [1., 2.],\n",
       "         [1., 2.]],\n",
       "\n",
       "        [[3., 4.],\n",
       "         [3., 4.],\n",
       "         [3., 4.]]])"
      ]
     },
     "execution_count": 82,
     "metadata": {},
     "output_type": "execute_result"
    }
   ],
   "source": [
    "d"
   ]
  },
  {
   "cell_type": "code",
   "execution_count": 91,
   "id": "6bc005db",
   "metadata": {},
   "outputs": [],
   "source": [
    "bs=torch.split(b,1,dim=1)"
   ]
  },
  {
   "cell_type": "code",
   "execution_count": 92,
   "id": "4e2341a4",
   "metadata": {},
   "outputs": [
    {
     "data": {
      "text/plain": [
       "(tensor([[1.],\n",
       "         [3.],\n",
       "         [1.],\n",
       "         [3.],\n",
       "         [1.],\n",
       "         [3.]]),\n",
       " tensor([[2.],\n",
       "         [4.],\n",
       "         [2.],\n",
       "         [4.],\n",
       "         [2.],\n",
       "         [4.]]))"
      ]
     },
     "execution_count": 92,
     "metadata": {},
     "output_type": "execute_result"
    }
   ],
   "source": [
    "bs"
   ]
  },
  {
   "cell_type": "code",
   "execution_count": 102,
   "id": "9942f4d4",
   "metadata": {},
   "outputs": [],
   "source": [
    "ds = torch.split(d,1,dim=0)"
   ]
  },
  {
   "cell_type": "code",
   "execution_count": 103,
   "id": "5be1ddac",
   "metadata": {},
   "outputs": [
    {
     "data": {
      "text/plain": [
       "(tensor([[[1., 2.],\n",
       "          [1., 2.],\n",
       "          [1., 2.]]]),\n",
       " tensor([[[3., 4.],\n",
       "          [3., 4.],\n",
       "          [3., 4.]]]))"
      ]
     },
     "execution_count": 103,
     "metadata": {},
     "output_type": "execute_result"
    }
   ],
   "source": [
    "ds"
   ]
  },
  {
   "cell_type": "code",
   "execution_count": null,
   "id": "53ca1cb7",
   "metadata": {},
   "outputs": [],
   "source": []
  }
 ],
 "metadata": {
  "kernelspec": {
   "display_name": "Python 3 (ipykernel)",
   "language": "python",
   "name": "python3"
  },
  "language_info": {
   "codemirror_mode": {
    "name": "ipython",
    "version": 3
   },
   "file_extension": ".py",
   "mimetype": "text/x-python",
   "name": "python",
   "nbconvert_exporter": "python",
   "pygments_lexer": "ipython3",
   "version": "3.8.5"
  }
 },
 "nbformat": 4,
 "nbformat_minor": 5
}
