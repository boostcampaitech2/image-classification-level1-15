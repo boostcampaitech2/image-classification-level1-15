{
 "cells": [
  {
   "cell_type": "code",
   "execution_count": 117,
   "id": "53ca1cb7",
   "metadata": {},
   "outputs": [
    {
     "name": "stderr",
     "output_type": "stream",
     "text": [
      "/tmp/ipykernel_5498/3720979544.py:2: VisibleDeprecationWarning: Creating an ndarray from ragged nested sequences (which is a list-or-tuple of lists-or-tuples-or ndarrays with different lengths or shapes) is deprecated. If you meant to do this, you must specify 'dtype=object' when creating the ndarray.\n",
      "  a=np.array([[[2,2,3],2,4,5],[[3,4,4],4,4,2]])\n"
     ]
    }
   ],
   "source": [
    "import numpy as np\n",
    "a=np.array([[[2,2,3],2,4,5],[[3,4,4],4,4,2]])"
   ]
  },
  {
   "cell_type": "code",
   "execution_count": 118,
   "id": "0d1bf0df",
   "metadata": {},
   "outputs": [
    {
     "data": {
      "text/plain": [
       "array([[list([2, 2, 3]), 2, 4, 5],\n",
       "       [list([3, 4, 4]), 4, 4, 2]], dtype=object)"
      ]
     },
     "execution_count": 118,
     "metadata": {},
     "output_type": "execute_result"
    }
   ],
   "source": [
    "a"
   ]
  },
  {
   "cell_type": "code",
   "execution_count": 122,
   "id": "2d003689",
   "metadata": {},
   "outputs": [
    {
     "data": {
      "text/plain": [
       "array([[2, 4, 5],\n",
       "       [4, 4, 2]], dtype=object)"
      ]
     },
     "execution_count": 122,
     "metadata": {},
     "output_type": "execute_result"
    }
   ],
   "source": [
    "a[:,1:] #0번째열"
   ]
  },
  {
   "cell_type": "code",
   "execution_count": null,
   "id": "d8e04315",
   "metadata": {},
   "outputs": [],
   "source": []
  }
 ],
 "metadata": {
  "kernelspec": {
   "display_name": "Python 3 (ipykernel)",
   "language": "python",
   "name": "python3"
  },
  "language_info": {
   "codemirror_mode": {
    "name": "ipython",
    "version": 3
   },
   "file_extension": ".py",
   "mimetype": "text/x-python",
   "name": "python",
   "nbconvert_exporter": "python",
   "pygments_lexer": "ipython3",
   "version": "3.8.5"
  }
 },
 "nbformat": 4,
 "nbformat_minor": 5
}
