{
 "cells": [
  {
   "cell_type": "code",
   "execution_count": 152,
   "id": "3efc6ef5-3584-43af-b8cb-14b891865855",
   "metadata": {},
   "outputs": [],
   "source": [
    "import torch\n",
    "import torch.nn as nn\n",
    "import torch.nn.functional as F\n",
    "from torch.utils.data import Dataset, DataLoader\n",
    "from torchvision import transforms\n",
    "from torchvision.transforms import Resize, ToTensor, Normalize\n",
    "import pandas as pd\n",
    "import matplotlib.pyplot as plt\n",
    "import seaborn as sns\n",
    "import numpy as np\n",
    "import os\n",
    "import re\n",
    "import pickle"
   ]
  },
  {
   "cell_type": "code",
   "execution_count": 153,
   "id": "59e2793e-1dd6-4581-9f32-3c2cfcf50565",
   "metadata": {},
   "outputs": [],
   "source": [
    "data_dir = '/opt/ml/input/data/train'\n",
    "data_dir\n",
    "df = pd.read_csv(os.path.join(data_dir,'train.csv'))\n",
    "dir_list = []\n",
    "for i in range(len(df)):\n",
    "    dir_list.append(df['path'][i])\n",
    "\n",
    "images_dir = data_dir + '/images/'\n",
    "file_list = []\n",
    "\n",
    "for dir_name in dir_list:\n",
    "    #print(os.listdir(os.path.join(images_dir,dir_name)))\n",
    "    #print(os.listdir(os.path.join(images_dir,dir_name)))\n",
    "    temp = []\n",
    "    for f in os.listdir(os.path.join(images_dir,dir_name)):\n",
    "        if not f.startswith('.'):\n",
    "            temp.append(f)\n",
    "    file_list.append(temp)\n",
    "\n",
    "\n",
    "images_path = []\n",
    "for i in range(len(file_list)):\n",
    "    for j in range(len(file_list[i])):\n",
    "        images_path.append(os.path.join(dir_list[i],file_list[i][j]))\n",
    "        \n",
    "sex = []\n",
    "age = []\n",
    "mask_state = []\n",
    "tag = []\n",
    "for image_path in images_path:\n",
    "    file_info = re.sub('[^a-zA-Z0-9]',' ',image_path)\n",
    "    #print(image_path)\n",
    "    ##print(file_info)\n",
    "    if 'female' in file_info:\n",
    "        sex.append('female')\n",
    "        idx = file_info.index('female')\n",
    "    else:\n",
    "        sex.append('male')\n",
    "        idx = file_info.index('male')\n",
    "    file_info = file_info[idx:].split()\n",
    "    age.append(int(file_info[2]))\n",
    "    mask_state.append(file_info[3])\n",
    "    #print(file_info)\n",
    "    tag.append(file_info[-1])"
   ]
  },
  {
   "cell_type": "code",
   "execution_count": 154,
   "id": "21653d34-f276-4fe1-9af4-c327250af0d1",
   "metadata": {},
   "outputs": [],
   "source": [
    "info_df = pd.DataFrame(data={'sex':sex,\n",
    "                            'age':age,\n",
    "                            'mask_state': mask_state,\n",
    "                            'tag':tag})\n",
    "info_df['path'] = images_path"
   ]
  },
  {
   "cell_type": "code",
   "execution_count": null,
   "id": "7589a213-a06d-4ebd-a4fe-10ffca0f4e5c",
   "metadata": {},
   "outputs": [],
   "source": []
  },
  {
   "cell_type": "code",
   "execution_count": 155,
   "id": "3c482874-22d5-4595-9e8f-ed405a8dc15e",
   "metadata": {},
   "outputs": [],
   "source": [
    "info_df['mask_state'] = info_df['mask_state'].apply(lambda x: 'mask' if x.startswith('mask') else x)"
   ]
  },
  {
   "cell_type": "code",
   "execution_count": 156,
   "id": "26e07d5c-0cd8-4ea9-8a3b-cb6d2c13343a",
   "metadata": {},
   "outputs": [],
   "source": [
    "mask = ['mask','incorrect','normal']\n",
    "gender = ['male','female']\n",
    "\n",
    "df_class = []\n",
    "for m in mask:\n",
    "    for g in gender:\n",
    "        df_class.append(info_df[(info_df['mask_state'] == m) & (info_df['sex'] == g) & (info_df['age'] < 30)])\n",
    "        df_class.append(info_df[(info_df['mask_state'] == m) & (info_df['sex'] == g) & (info_df['age'] >= 30) & (info_df['age'] < 60)])\n",
    "        df_class.append(info_df[(info_df['mask_state'] == m) & (info_df['sex'] == g) & (info_df['age'] >= 60)])"
   ]
  },
  {
   "cell_type": "code",
   "execution_count": 157,
   "id": "668fffa8-fe4e-4bc7-b49a-a0efd5a29823",
   "metadata": {
    "tags": []
   },
   "outputs": [],
   "source": [
    "vaild_path = []\n",
    "vaild_age = []\n",
    "vaild_state = []\n",
    "vaild_gender = []\n",
    "\n",
    "train_path = []\n",
    "train_age = []\n",
    "train_state = []\n",
    "train_gender = []\n",
    "\n",
    "\n",
    "for i in range(len(df_class)):\n",
    "    #print(i)\n",
    "    temp_index = df_class[i].index.array.copy()\n",
    "    np.random.shuffle(temp_index)\n",
    "    train, vaild = temp_index[:int(len(temp_index)*0.9)], temp_index[int(len(temp_index)*0.9) :]\n",
    "    \n",
    "\n",
    "\n",
    "    for t_idx in train:\n",
    "        train_path.append(info_df['path'].iloc[t_idx])\n",
    "        train_age.append(info_df['age'].iloc[t_idx])\n",
    "        train_state.append(info_df['mask_state'].iloc[t_idx])\n",
    "        train_gender.append(info_df['sex'].iloc[t_idx])\n",
    "        \n",
    "    for v_idx in vaild:\n",
    "        vaild_path.append(info_df['path'].iloc[v_idx])\n",
    "        vaild_age.append(info_df['age'].iloc[t_idx])\n",
    "        vaild_state.append(info_df['mask_state'].iloc[t_idx])\n",
    "        vaild_gender.append(info_df['sex'].iloc[t_idx])"
   ]
  },
  {
   "cell_type": "code",
   "execution_count": 158,
   "id": "3bab20ed-16c9-48d6-a00f-fba3050ef298",
   "metadata": {},
   "outputs": [],
   "source": [
    "train_path_df = pd.DataFrame(data={'path':train_path,\n",
    "                                  'age': train_age,\n",
    "                                  'state':train_state,\n",
    "                                  'gender':train_gender})"
   ]
  },
  {
   "cell_type": "code",
   "execution_count": 159,
   "id": "abf20e5a-34fa-4569-9452-289bc476c29a",
   "metadata": {},
   "outputs": [],
   "source": [
    "vaild_path_df = pd.DataFrame(data={'path':vaild_path,\n",
    "                                  'age': vaild_age,\n",
    "                                  'state':vaild_state,\n",
    "                                  'gender':vaild_gender})"
   ]
  },
  {
   "cell_type": "code",
   "execution_count": 161,
   "id": "2b82a90d-67d7-43e6-bed4-c20744e887b4",
   "metadata": {},
   "outputs": [],
   "source": [
    "train_path_df.to_csv('train_path.csv',index=False)\n",
    "vaild_path_df.to_csv('vaild_path.csv',index=False)"
   ]
  },
  {
   "cell_type": "code",
   "execution_count": null,
   "id": "7c9e2816-4181-4e7d-95ec-d270a1c4a067",
   "metadata": {},
   "outputs": [],
   "source": []
  }
 ],
 "metadata": {
  "kernelspec": {
   "display_name": "Python 3 (ipykernel)",
   "language": "python",
   "name": "python3"
  },
  "language_info": {
   "codemirror_mode": {
    "name": "ipython",
    "version": 3
   },
   "file_extension": ".py",
   "mimetype": "text/x-python",
   "name": "python",
   "nbconvert_exporter": "python",
   "pygments_lexer": "ipython3",
   "version": "3.8.5"
  }
 },
 "nbformat": 4,
 "nbformat_minor": 5
}
