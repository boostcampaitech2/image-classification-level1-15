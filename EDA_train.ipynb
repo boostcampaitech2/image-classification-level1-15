{
 "cells": [
  {
   "cell_type": "markdown",
   "id": "0e881432",
   "metadata": {},
   "source": [
    "# EDA\n",
    "\n",
    "# 0. Import"
   ]
  },
  {
   "cell_type": "code",
   "execution_count": 368,
   "id": "7061eaf1",
   "metadata": {},
   "outputs": [],
   "source": [
    "import os\n",
    "import pandas as pd\n",
    "import numpy as np\n",
    "import matplotlib.pyplot as plt\n",
    "import seaborn as sns\n",
    "from glob import glob\n",
    "from itertools import product\n",
    "import matplotlib.image as img"
   ]
  },
  {
   "cell_type": "markdown",
   "id": "f5992707",
   "metadata": {},
   "source": [
    "# 1. Dataframe 생성 및 확인"
   ]
  },
  {
   "cell_type": "markdown",
   "id": "5bb2b5a5",
   "metadata": {},
   "source": [
    "## 1-1. Dataframe 생성"
   ]
  },
  {
   "cell_type": "code",
   "execution_count": 369,
   "id": "24749d78",
   "metadata": {},
   "outputs": [],
   "source": [
    "data_path = './input/data/'\n",
    "train_data = pd.read_csv(data_path+\"train/train.csv\")\n",
    "train_df = pd.DataFrame(train_data)"
   ]
  },
  {
   "cell_type": "code",
   "execution_count": 370,
   "id": "92769f3a",
   "metadata": {
    "scrolled": false
   },
   "outputs": [
    {
     "data": {
      "text/html": [
       "<div>\n",
       "<style scoped>\n",
       "    .dataframe tbody tr th:only-of-type {\n",
       "        vertical-align: middle;\n",
       "    }\n",
       "\n",
       "    .dataframe tbody tr th {\n",
       "        vertical-align: top;\n",
       "    }\n",
       "\n",
       "    .dataframe thead th {\n",
       "        text-align: right;\n",
       "    }\n",
       "</style>\n",
       "<table border=\"1\" class=\"dataframe\">\n",
       "  <thead>\n",
       "    <tr style=\"text-align: right;\">\n",
       "      <th></th>\n",
       "      <th>id</th>\n",
       "      <th>gender</th>\n",
       "      <th>race</th>\n",
       "      <th>age</th>\n",
       "      <th>path</th>\n",
       "    </tr>\n",
       "  </thead>\n",
       "  <tbody>\n",
       "    <tr>\n",
       "      <th>0</th>\n",
       "      <td>000001</td>\n",
       "      <td>female</td>\n",
       "      <td>Asian</td>\n",
       "      <td>45</td>\n",
       "      <td>000001_female_Asian_45</td>\n",
       "    </tr>\n",
       "    <tr>\n",
       "      <th>1</th>\n",
       "      <td>000002</td>\n",
       "      <td>female</td>\n",
       "      <td>Asian</td>\n",
       "      <td>52</td>\n",
       "      <td>000002_female_Asian_52</td>\n",
       "    </tr>\n",
       "    <tr>\n",
       "      <th>2</th>\n",
       "      <td>000004</td>\n",
       "      <td>male</td>\n",
       "      <td>Asian</td>\n",
       "      <td>54</td>\n",
       "      <td>000004_male_Asian_54</td>\n",
       "    </tr>\n",
       "    <tr>\n",
       "      <th>3</th>\n",
       "      <td>000005</td>\n",
       "      <td>female</td>\n",
       "      <td>Asian</td>\n",
       "      <td>58</td>\n",
       "      <td>000005_female_Asian_58</td>\n",
       "    </tr>\n",
       "    <tr>\n",
       "      <th>4</th>\n",
       "      <td>000006</td>\n",
       "      <td>female</td>\n",
       "      <td>Asian</td>\n",
       "      <td>59</td>\n",
       "      <td>000006_female_Asian_59</td>\n",
       "    </tr>\n",
       "    <tr>\n",
       "      <th>...</th>\n",
       "      <td>...</td>\n",
       "      <td>...</td>\n",
       "      <td>...</td>\n",
       "      <td>...</td>\n",
       "      <td>...</td>\n",
       "    </tr>\n",
       "    <tr>\n",
       "      <th>2695</th>\n",
       "      <td>006955</td>\n",
       "      <td>male</td>\n",
       "      <td>Asian</td>\n",
       "      <td>19</td>\n",
       "      <td>006955_male_Asian_19</td>\n",
       "    </tr>\n",
       "    <tr>\n",
       "      <th>2696</th>\n",
       "      <td>006956</td>\n",
       "      <td>male</td>\n",
       "      <td>Asian</td>\n",
       "      <td>19</td>\n",
       "      <td>006956_male_Asian_19</td>\n",
       "    </tr>\n",
       "    <tr>\n",
       "      <th>2697</th>\n",
       "      <td>006957</td>\n",
       "      <td>male</td>\n",
       "      <td>Asian</td>\n",
       "      <td>20</td>\n",
       "      <td>006957_male_Asian_20</td>\n",
       "    </tr>\n",
       "    <tr>\n",
       "      <th>2698</th>\n",
       "      <td>006959</td>\n",
       "      <td>male</td>\n",
       "      <td>Asian</td>\n",
       "      <td>19</td>\n",
       "      <td>006959_male_Asian_19</td>\n",
       "    </tr>\n",
       "    <tr>\n",
       "      <th>2699</th>\n",
       "      <td>007000</td>\n",
       "      <td>female</td>\n",
       "      <td>Asian</td>\n",
       "      <td>20</td>\n",
       "      <td>007000_female_Asian_20</td>\n",
       "    </tr>\n",
       "  </tbody>\n",
       "</table>\n",
       "<p>2700 rows × 5 columns</p>\n",
       "</div>"
      ],
      "text/plain": [
       "          id  gender   race  age                    path\n",
       "0     000001  female  Asian   45  000001_female_Asian_45\n",
       "1     000002  female  Asian   52  000002_female_Asian_52\n",
       "2     000004    male  Asian   54    000004_male_Asian_54\n",
       "3     000005  female  Asian   58  000005_female_Asian_58\n",
       "4     000006  female  Asian   59  000006_female_Asian_59\n",
       "...      ...     ...    ...  ...                     ...\n",
       "2695  006955    male  Asian   19    006955_male_Asian_19\n",
       "2696  006956    male  Asian   19    006956_male_Asian_19\n",
       "2697  006957    male  Asian   20    006957_male_Asian_20\n",
       "2698  006959    male  Asian   19    006959_male_Asian_19\n",
       "2699  007000  female  Asian   20  007000_female_Asian_20\n",
       "\n",
       "[2700 rows x 5 columns]"
      ]
     },
     "execution_count": 370,
     "metadata": {},
     "output_type": "execute_result"
    }
   ],
   "source": [
    "train_df"
   ]
  },
  {
   "cell_type": "markdown",
   "id": "ac16fe1a",
   "metadata": {},
   "source": [
    "## 1-2. Dataframe 확인"
   ]
  },
  {
   "cell_type": "markdown",
   "id": "b99725a3",
   "metadata": {},
   "source": [
    "### 1-2-1. 결측치 확인"
   ]
  },
  {
   "cell_type": "code",
   "execution_count": 371,
   "id": "e585e124",
   "metadata": {},
   "outputs": [
    {
     "name": "stdout",
     "output_type": "stream",
     "text": [
      "<class 'pandas.core.frame.DataFrame'>\n",
      "RangeIndex: 2700 entries, 0 to 2699\n",
      "Data columns (total 5 columns):\n",
      " #   Column  Non-Null Count  Dtype \n",
      "---  ------  --------------  ----- \n",
      " 0   id      2700 non-null   object\n",
      " 1   gender  2700 non-null   object\n",
      " 2   race    2700 non-null   object\n",
      " 3   age     2700 non-null   int64 \n",
      " 4   path    2700 non-null   object\n",
      "dtypes: int64(1), object(4)\n",
      "memory usage: 105.6+ KB\n"
     ]
    }
   ],
   "source": [
    "train_df.info()"
   ]
  },
  {
   "cell_type": "markdown",
   "id": "1c295313",
   "metadata": {},
   "source": [
    "> 결측값은 없다."
   ]
  },
  {
   "cell_type": "markdown",
   "id": "90f288cd",
   "metadata": {},
   "source": [
    "### 1-2-2. data size 및 feature 확인"
   ]
  },
  {
   "cell_type": "code",
   "execution_count": 372,
   "id": "1ad9086b",
   "metadata": {
    "scrolled": true
   },
   "outputs": [
    {
     "name": "stdout",
     "output_type": "stream",
     "text": [
      "Data size: 2700\n",
      "Number of features: 5\n",
      "Features: ['id', 'gender', 'race', 'age', 'path']\n"
     ]
    }
   ],
   "source": [
    "print(f'Data size: {train_df.shape[0]}')\n",
    "print(f'Number of features: {train_df.shape[1]}')\n",
    "print(f'Features: {list(train_df.columns)}')"
   ]
  },
  {
   "cell_type": "markdown",
   "id": "9b7780e0",
   "metadata": {},
   "source": [
    "### 1-2-3. Id 확인 \n",
    "#### **id가 왜 object로 되어있을까?**"
   ]
  },
  {
   "cell_type": "code",
   "execution_count": 373,
   "id": "ddd6a23b",
   "metadata": {
    "scrolled": true
   },
   "outputs": [
    {
     "name": "stdout",
     "output_type": "stream",
     "text": [
      "207: 000600-1\n",
      "324: 000748-1\n",
      "400: 001024-1\n",
      "403: 001026-1\n",
      "407: 001029-1\n",
      "417: 001038-1\n",
      "423: 001043-1\n",
      "428: 001047-1\n",
      "501: 001131-1\n",
      "503: 001132-1\n",
      "548: 001179-1\n",
      "552: 001182-1\n",
      "554: 001183-1\n",
      "557: 001186-1\n",
      "559: 001187-1\n",
      "668: 001359-1\n",
      "732: 001464-1\n",
      "755: 001492-1\n",
      "756: 001493-1\n",
      "758: 001494-1\n",
      "759: 001495-1\n",
      "761: 001496-1\n",
      "764: 001498-1\n",
      "782: 001517-1\n",
      "839: 001583-1\n",
      "879: 001630-1\n",
      "892: 001645-1\n",
      "895: 001647-1\n",
      "981: 001774-1\n",
      "982: 001774-2\n",
      "984: 001775-1\n",
      "1026: 001840-1\n",
      "1373: 003403-1\n",
      "1388: 003424-1\n",
      "1436: 003505-1\n",
      "1440: 003508-1\n",
      "1442: 003509-1\n",
      "1445: 003511-1\n",
      "1449: 003514-1\n",
      "1840: 004319-1\n",
      "2009: 005067-1\n",
      "숫자가 아닌 id: 41개\n"
     ]
    }
   ],
   "source": [
    "count=0\n",
    "for i,id_ in enumerate(train_df['id']):\n",
    "    try:\n",
    "        int(id_)\n",
    "    except:  # 숫자가 아닌 것이 있나?\n",
    "        print(f'{i}: {id_}')\n",
    "        count+=1\n",
    "print(f'숫자가 아닌 id: {count}개')\n",
    "        "
   ]
  },
  {
   "cell_type": "markdown",
   "id": "8b5fce60",
   "metadata": {},
   "source": [
    "> -1이 40개, -2가 1개 있음"
   ]
  },
  {
   "cell_type": "code",
   "execution_count": 374,
   "id": "e8405304",
   "metadata": {},
   "outputs": [
    {
     "data": {
      "text/html": [
       "<div>\n",
       "<style scoped>\n",
       "    .dataframe tbody tr th:only-of-type {\n",
       "        vertical-align: middle;\n",
       "    }\n",
       "\n",
       "    .dataframe tbody tr th {\n",
       "        vertical-align: top;\n",
       "    }\n",
       "\n",
       "    .dataframe thead th {\n",
       "        text-align: right;\n",
       "    }\n",
       "</style>\n",
       "<table border=\"1\" class=\"dataframe\">\n",
       "  <thead>\n",
       "    <tr style=\"text-align: right;\">\n",
       "      <th></th>\n",
       "      <th>id</th>\n",
       "      <th>gender</th>\n",
       "      <th>race</th>\n",
       "      <th>age</th>\n",
       "      <th>path</th>\n",
       "    </tr>\n",
       "  </thead>\n",
       "  <tbody>\n",
       "    <tr>\n",
       "      <th>980</th>\n",
       "      <td>001774</td>\n",
       "      <td>female</td>\n",
       "      <td>Asian</td>\n",
       "      <td>58</td>\n",
       "      <td>001774_female_Asian_58</td>\n",
       "    </tr>\n",
       "    <tr>\n",
       "      <th>981</th>\n",
       "      <td>001774-1</td>\n",
       "      <td>female</td>\n",
       "      <td>Asian</td>\n",
       "      <td>52</td>\n",
       "      <td>001774-1_female_Asian_52</td>\n",
       "    </tr>\n",
       "    <tr>\n",
       "      <th>982</th>\n",
       "      <td>001774-2</td>\n",
       "      <td>male</td>\n",
       "      <td>Asian</td>\n",
       "      <td>52</td>\n",
       "      <td>001774-2_male_Asian_52</td>\n",
       "    </tr>\n",
       "  </tbody>\n",
       "</table>\n",
       "</div>"
      ],
      "text/plain": [
       "           id  gender   race  age                      path\n",
       "980    001774  female  Asian   58    001774_female_Asian_58\n",
       "981  001774-1  female  Asian   52  001774-1_female_Asian_52\n",
       "982  001774-2    male  Asian   52    001774-2_male_Asian_52"
      ]
     },
     "execution_count": 374,
     "metadata": {},
     "output_type": "execute_result"
    }
   ],
   "source": [
    "# 여러개 값 가져오기 : https://rfriend.tistory.com/460\n",
    "\n",
    "train_df[train_df['id'].isin(['001774','001774-1','001774-2'])]\n",
    "# train_df[(train_df['id']=='001774')|(train_df['id']=='001774-1')|(train_df['id']=='001774-2')]"
   ]
  },
  {
   "cell_type": "markdown",
   "id": "135dd319",
   "metadata": {},
   "source": [
    "> **같은 사람이 아니다!!**"
   ]
  },
  {
   "cell_type": "markdown",
   "id": "40ad9981",
   "metadata": {},
   "source": [
    "#### id는 중복이 있는가? **** 수정완료"
   ]
  },
  {
   "cell_type": "code",
   "execution_count": 8,
   "id": "1e987607",
   "metadata": {},
   "outputs": [
    {
     "data": {
      "text/html": [
       "<div>\n",
       "<style scoped>\n",
       "    .dataframe tbody tr th:only-of-type {\n",
       "        vertical-align: middle;\n",
       "    }\n",
       "\n",
       "    .dataframe tbody tr th {\n",
       "        vertical-align: top;\n",
       "    }\n",
       "\n",
       "    .dataframe thead th {\n",
       "        text-align: right;\n",
       "    }\n",
       "</style>\n",
       "<table border=\"1\" class=\"dataframe\">\n",
       "  <thead>\n",
       "    <tr style=\"text-align: right;\">\n",
       "      <th></th>\n",
       "      <th>id</th>\n",
       "      <th>gender</th>\n",
       "      <th>race</th>\n",
       "      <th>age</th>\n",
       "      <th>path</th>\n",
       "    </tr>\n",
       "  </thead>\n",
       "  <tbody>\n",
       "    <tr>\n",
       "      <th>1367</th>\n",
       "      <td>003397</td>\n",
       "      <td>female</td>\n",
       "      <td>Asian</td>\n",
       "      <td>19</td>\n",
       "      <td>003397_female_Asian_19</td>\n",
       "    </tr>\n",
       "  </tbody>\n",
       "</table>\n",
       "</div>"
      ],
      "text/plain": [
       "          id  gender   race  age                    path\n",
       "1367  003397  female  Asian   19  003397_female_Asian_19"
      ]
     },
     "execution_count": 8,
     "metadata": {},
     "output_type": "execute_result"
    }
   ],
   "source": [
    "# 중복 확인 :  https://sy-log.tistory.com/60\n",
    "\n",
    "train_df[train_df.duplicated(['id'])]"
   ]
  },
  {
   "cell_type": "markdown",
   "id": "1d6741dd",
   "metadata": {},
   "source": [
    "> 있다."
   ]
  },
  {
   "cell_type": "code",
   "execution_count": 9,
   "id": "a77a1823",
   "metadata": {},
   "outputs": [
    {
     "data": {
      "text/html": [
       "<div>\n",
       "<style scoped>\n",
       "    .dataframe tbody tr th:only-of-type {\n",
       "        vertical-align: middle;\n",
       "    }\n",
       "\n",
       "    .dataframe tbody tr th {\n",
       "        vertical-align: top;\n",
       "    }\n",
       "\n",
       "    .dataframe thead th {\n",
       "        text-align: right;\n",
       "    }\n",
       "</style>\n",
       "<table border=\"1\" class=\"dataframe\">\n",
       "  <thead>\n",
       "    <tr style=\"text-align: right;\">\n",
       "      <th></th>\n",
       "      <th>id</th>\n",
       "      <th>gender</th>\n",
       "      <th>race</th>\n",
       "      <th>age</th>\n",
       "      <th>path</th>\n",
       "    </tr>\n",
       "  </thead>\n",
       "  <tbody>\n",
       "    <tr>\n",
       "      <th>1366</th>\n",
       "      <td>003397</td>\n",
       "      <td>female</td>\n",
       "      <td>Asian</td>\n",
       "      <td>20</td>\n",
       "      <td>003397_female_Asian_20</td>\n",
       "    </tr>\n",
       "    <tr>\n",
       "      <th>1367</th>\n",
       "      <td>003397</td>\n",
       "      <td>female</td>\n",
       "      <td>Asian</td>\n",
       "      <td>19</td>\n",
       "      <td>003397_female_Asian_19</td>\n",
       "    </tr>\n",
       "  </tbody>\n",
       "</table>\n",
       "</div>"
      ],
      "text/plain": [
       "          id  gender   race  age                    path\n",
       "1366  003397  female  Asian   20  003397_female_Asian_20\n",
       "1367  003397  female  Asian   19  003397_female_Asian_19"
      ]
     },
     "execution_count": 9,
     "metadata": {},
     "output_type": "execute_result"
    }
   ],
   "source": [
    "train_df[train_df['id']=='003397']"
   ]
  },
  {
   "cell_type": "markdown",
   "id": "a76704a3",
   "metadata": {},
   "source": [
    "> #### 다른사람이므로 id와 path를 바꿔야 할 것 같다. \n",
    "**변경완료**\n",
    "`003397_female_Asian_20` --> `007000_female_Asian_20`"
   ]
  },
  {
   "cell_type": "markdown",
   "id": "99543644",
   "metadata": {},
   "source": [
    "#### path는 중복이 있는가?"
   ]
  },
  {
   "cell_type": "code",
   "execution_count": 375,
   "id": "3e05abf8",
   "metadata": {},
   "outputs": [
    {
     "data": {
      "text/html": [
       "<div>\n",
       "<style scoped>\n",
       "    .dataframe tbody tr th:only-of-type {\n",
       "        vertical-align: middle;\n",
       "    }\n",
       "\n",
       "    .dataframe tbody tr th {\n",
       "        vertical-align: top;\n",
       "    }\n",
       "\n",
       "    .dataframe thead th {\n",
       "        text-align: right;\n",
       "    }\n",
       "</style>\n",
       "<table border=\"1\" class=\"dataframe\">\n",
       "  <thead>\n",
       "    <tr style=\"text-align: right;\">\n",
       "      <th></th>\n",
       "      <th>id</th>\n",
       "      <th>gender</th>\n",
       "      <th>race</th>\n",
       "      <th>age</th>\n",
       "      <th>path</th>\n",
       "    </tr>\n",
       "  </thead>\n",
       "  <tbody>\n",
       "  </tbody>\n",
       "</table>\n",
       "</div>"
      ],
      "text/plain": [
       "Empty DataFrame\n",
       "Columns: [id, gender, race, age, path]\n",
       "Index: []"
      ]
     },
     "execution_count": 375,
     "metadata": {},
     "output_type": "execute_result"
    }
   ],
   "source": [
    "train_df[train_df.duplicated(['path'])]"
   ]
  },
  {
   "cell_type": "markdown",
   "id": "7541fa10",
   "metadata": {},
   "source": [
    "> 없다."
   ]
  },
  {
   "cell_type": "markdown",
   "id": "0e5b7dd1",
   "metadata": {},
   "source": [
    "#### csv에 있는 항목과 path 이름에 있는 정보는 일치하는가?"
   ]
  },
  {
   "cell_type": "code",
   "execution_count": 376,
   "id": "dba16426",
   "metadata": {},
   "outputs": [
    {
     "name": "stderr",
     "output_type": "stream",
     "text": [
      "<ipython-input-376-95b134c65eae>:4: FutureWarning: Columnar iteration over characters will be deprecated in future releases.\n",
      "  path_df['id'],path_df['gender'],path_df['race'],path_df['age'] = train_df['path'].str.split('_').str\n"
     ]
    }
   ],
   "source": [
    "# slicing 관련: https://rfriend.tistory.com/448\n",
    "\n",
    "path_df = pd.DataFrame()\n",
    "path_df['id'],path_df['gender'],path_df['race'],path_df['age'] = train_df['path'].str.split('_').str\n",
    "path_df = path_df.astype({'age':'int'}) # str to int"
   ]
  },
  {
   "cell_type": "code",
   "execution_count": 377,
   "id": "6900fe15",
   "metadata": {},
   "outputs": [
    {
     "data": {
      "text/html": [
       "<div>\n",
       "<style scoped>\n",
       "    .dataframe tbody tr th:only-of-type {\n",
       "        vertical-align: middle;\n",
       "    }\n",
       "\n",
       "    .dataframe tbody tr th {\n",
       "        vertical-align: top;\n",
       "    }\n",
       "\n",
       "    .dataframe thead th {\n",
       "        text-align: right;\n",
       "    }\n",
       "</style>\n",
       "<table border=\"1\" class=\"dataframe\">\n",
       "  <thead>\n",
       "    <tr style=\"text-align: right;\">\n",
       "      <th></th>\n",
       "      <th>id</th>\n",
       "      <th>gender</th>\n",
       "      <th>race</th>\n",
       "      <th>age</th>\n",
       "    </tr>\n",
       "  </thead>\n",
       "  <tbody>\n",
       "    <tr>\n",
       "      <th>0</th>\n",
       "      <td>000001</td>\n",
       "      <td>female</td>\n",
       "      <td>Asian</td>\n",
       "      <td>45</td>\n",
       "    </tr>\n",
       "    <tr>\n",
       "      <th>1</th>\n",
       "      <td>000002</td>\n",
       "      <td>female</td>\n",
       "      <td>Asian</td>\n",
       "      <td>52</td>\n",
       "    </tr>\n",
       "    <tr>\n",
       "      <th>2</th>\n",
       "      <td>000004</td>\n",
       "      <td>male</td>\n",
       "      <td>Asian</td>\n",
       "      <td>54</td>\n",
       "    </tr>\n",
       "    <tr>\n",
       "      <th>3</th>\n",
       "      <td>000005</td>\n",
       "      <td>female</td>\n",
       "      <td>Asian</td>\n",
       "      <td>58</td>\n",
       "    </tr>\n",
       "    <tr>\n",
       "      <th>4</th>\n",
       "      <td>000006</td>\n",
       "      <td>female</td>\n",
       "      <td>Asian</td>\n",
       "      <td>59</td>\n",
       "    </tr>\n",
       "    <tr>\n",
       "      <th>...</th>\n",
       "      <td>...</td>\n",
       "      <td>...</td>\n",
       "      <td>...</td>\n",
       "      <td>...</td>\n",
       "    </tr>\n",
       "    <tr>\n",
       "      <th>2695</th>\n",
       "      <td>006955</td>\n",
       "      <td>male</td>\n",
       "      <td>Asian</td>\n",
       "      <td>19</td>\n",
       "    </tr>\n",
       "    <tr>\n",
       "      <th>2696</th>\n",
       "      <td>006956</td>\n",
       "      <td>male</td>\n",
       "      <td>Asian</td>\n",
       "      <td>19</td>\n",
       "    </tr>\n",
       "    <tr>\n",
       "      <th>2697</th>\n",
       "      <td>006957</td>\n",
       "      <td>male</td>\n",
       "      <td>Asian</td>\n",
       "      <td>20</td>\n",
       "    </tr>\n",
       "    <tr>\n",
       "      <th>2698</th>\n",
       "      <td>006959</td>\n",
       "      <td>male</td>\n",
       "      <td>Asian</td>\n",
       "      <td>19</td>\n",
       "    </tr>\n",
       "    <tr>\n",
       "      <th>2699</th>\n",
       "      <td>007000</td>\n",
       "      <td>female</td>\n",
       "      <td>Asian</td>\n",
       "      <td>20</td>\n",
       "    </tr>\n",
       "  </tbody>\n",
       "</table>\n",
       "<p>2700 rows × 4 columns</p>\n",
       "</div>"
      ],
      "text/plain": [
       "          id  gender   race  age\n",
       "0     000001  female  Asian   45\n",
       "1     000002  female  Asian   52\n",
       "2     000004    male  Asian   54\n",
       "3     000005  female  Asian   58\n",
       "4     000006  female  Asian   59\n",
       "...      ...     ...    ...  ...\n",
       "2695  006955    male  Asian   19\n",
       "2696  006956    male  Asian   19\n",
       "2697  006957    male  Asian   20\n",
       "2698  006959    male  Asian   19\n",
       "2699  007000  female  Asian   20\n",
       "\n",
       "[2700 rows x 4 columns]"
      ]
     },
     "execution_count": 377,
     "metadata": {},
     "output_type": "execute_result"
    }
   ],
   "source": [
    "path_df"
   ]
  },
  {
   "cell_type": "code",
   "execution_count": 378,
   "id": "1a586f21",
   "metadata": {
    "scrolled": true
   },
   "outputs": [
    {
     "name": "stdout",
     "output_type": "stream",
     "text": [
      "Empty DataFrame\n",
      "Columns: [id, gender, race, age, path]\n",
      "Index: [] \n",
      "\n",
      "Empty DataFrame\n",
      "Columns: [id, gender, race, age, path]\n",
      "Index: [] \n",
      "\n",
      "Empty DataFrame\n",
      "Columns: [id, gender, race, age, path]\n",
      "Index: [] \n",
      "\n",
      "Empty DataFrame\n",
      "Columns: [id, gender, race, age, path]\n",
      "Index: [] \n",
      "\n"
     ]
    }
   ],
   "source": [
    "# matching\n",
    "print(train_df[train_df['id']!=path_df['id']],'\\n')\n",
    "print(train_df[train_df['gender']!=path_df['gender']],'\\n')\n",
    "print(train_df[train_df['race']!=path_df['race']],'\\n')\n",
    "print(train_df[train_df['age']!=path_df['age']],'\\n')"
   ]
  },
  {
   "cell_type": "markdown",
   "id": "88b967f7",
   "metadata": {},
   "source": [
    "> csv 파일의 path 이름은 잘 matching 되어있다."
   ]
  },
  {
   "cell_type": "markdown",
   "id": "86c56d38",
   "metadata": {},
   "source": [
    "#### csv에 있는 path는 실제로 존재하는가? or csv에 없는 path가 있는가?"
   ]
  },
  {
   "cell_type": "code",
   "execution_count": 379,
   "id": "45475b46",
   "metadata": {},
   "outputs": [],
   "source": [
    "folder_path_raw = os.listdir(f'{data_path}train/images') # 폴더 경로"
   ]
  },
  {
   "cell_type": "code",
   "execution_count": 380,
   "id": "16910347",
   "metadata": {},
   "outputs": [],
   "source": [
    "# ._로 시작하는 경로 제외\n",
    "folder_path=[]\n",
    "for path in folder_path_raw:\n",
    "    if path.startswith('._'):\n",
    "        pass\n",
    "    else:\n",
    "        folder_path.append(path)"
   ]
  },
  {
   "cell_type": "code",
   "execution_count": 381,
   "id": "07436473",
   "metadata": {},
   "outputs": [
    {
     "data": {
      "text/plain": [
       "2700"
      ]
     },
     "execution_count": 381,
     "metadata": {},
     "output_type": "execute_result"
    }
   ],
   "source": [
    "len(folder_path)"
   ]
  },
  {
   "cell_type": "code",
   "execution_count": 382,
   "id": "7de0123d",
   "metadata": {
    "scrolled": false
   },
   "outputs": [
    {
     "data": {
      "text/html": [
       "<div>\n",
       "<style scoped>\n",
       "    .dataframe tbody tr th:only-of-type {\n",
       "        vertical-align: middle;\n",
       "    }\n",
       "\n",
       "    .dataframe tbody tr th {\n",
       "        vertical-align: top;\n",
       "    }\n",
       "\n",
       "    .dataframe thead th {\n",
       "        text-align: right;\n",
       "    }\n",
       "</style>\n",
       "<table border=\"1\" class=\"dataframe\">\n",
       "  <thead>\n",
       "    <tr style=\"text-align: right;\">\n",
       "      <th></th>\n",
       "      <th>id</th>\n",
       "      <th>gender</th>\n",
       "      <th>race</th>\n",
       "      <th>age</th>\n",
       "      <th>path</th>\n",
       "    </tr>\n",
       "  </thead>\n",
       "  <tbody>\n",
       "  </tbody>\n",
       "</table>\n",
       "</div>"
      ],
      "text/plain": [
       "Empty DataFrame\n",
       "Columns: [id, gender, race, age, path]\n",
       "Index: []"
      ]
     },
     "execution_count": 382,
     "metadata": {},
     "output_type": "execute_result"
    }
   ],
   "source": [
    "train_df[~train_df['path'].isin(folder_path)]"
   ]
  },
  {
   "cell_type": "markdown",
   "id": "99a57d19",
   "metadata": {},
   "source": [
    "> 모두 존재한다."
   ]
  },
  {
   "cell_type": "markdown",
   "id": "05055121",
   "metadata": {},
   "source": [
    "## 1-3. 필요한 Age tab 생성\n",
    "- 현재 나이로 되어있기 때문에 실제 데이터에 대한 `<30`, `>=30 and <60`, `>=60` 탭의 생성이 필요"
   ]
  },
  {
   "cell_type": "code",
   "execution_count": 383,
   "id": "d4f79886",
   "metadata": {},
   "outputs": [],
   "source": [
    "# https://www.delftstack.com/ko/howto/python-pandas/how-to-create-dataframe-column-based-on-given-condition-in-pandas/\n",
    "age_grouping = [\n",
    "    (train_df['age']<30),\n",
    "    (30<=train_df['age']) & (train_df['age']<60),\n",
    "    (train_df['age']>=60)\n",
    "]\n",
    "age_group_list = ['<30','>=30 and <60', '>=60']"
   ]
  },
  {
   "cell_type": "code",
   "execution_count": 384,
   "id": "358b55f1",
   "metadata": {},
   "outputs": [],
   "source": [
    "train_df['age_group']=np.select(age_grouping,age_group_list,default='Not Specified')"
   ]
  },
  {
   "cell_type": "code",
   "execution_count": 385,
   "id": "6438c45a",
   "metadata": {
    "scrolled": false
   },
   "outputs": [
    {
     "data": {
      "text/html": [
       "<div>\n",
       "<style scoped>\n",
       "    .dataframe tbody tr th:only-of-type {\n",
       "        vertical-align: middle;\n",
       "    }\n",
       "\n",
       "    .dataframe tbody tr th {\n",
       "        vertical-align: top;\n",
       "    }\n",
       "\n",
       "    .dataframe thead th {\n",
       "        text-align: right;\n",
       "    }\n",
       "</style>\n",
       "<table border=\"1\" class=\"dataframe\">\n",
       "  <thead>\n",
       "    <tr style=\"text-align: right;\">\n",
       "      <th></th>\n",
       "      <th>id</th>\n",
       "      <th>gender</th>\n",
       "      <th>race</th>\n",
       "      <th>age</th>\n",
       "      <th>path</th>\n",
       "      <th>age_group</th>\n",
       "    </tr>\n",
       "  </thead>\n",
       "  <tbody>\n",
       "    <tr>\n",
       "      <th>0</th>\n",
       "      <td>000001</td>\n",
       "      <td>female</td>\n",
       "      <td>Asian</td>\n",
       "      <td>45</td>\n",
       "      <td>000001_female_Asian_45</td>\n",
       "      <td>&gt;=30 and &lt;60</td>\n",
       "    </tr>\n",
       "    <tr>\n",
       "      <th>1</th>\n",
       "      <td>000002</td>\n",
       "      <td>female</td>\n",
       "      <td>Asian</td>\n",
       "      <td>52</td>\n",
       "      <td>000002_female_Asian_52</td>\n",
       "      <td>&gt;=30 and &lt;60</td>\n",
       "    </tr>\n",
       "    <tr>\n",
       "      <th>2</th>\n",
       "      <td>000004</td>\n",
       "      <td>male</td>\n",
       "      <td>Asian</td>\n",
       "      <td>54</td>\n",
       "      <td>000004_male_Asian_54</td>\n",
       "      <td>&gt;=30 and &lt;60</td>\n",
       "    </tr>\n",
       "    <tr>\n",
       "      <th>3</th>\n",
       "      <td>000005</td>\n",
       "      <td>female</td>\n",
       "      <td>Asian</td>\n",
       "      <td>58</td>\n",
       "      <td>000005_female_Asian_58</td>\n",
       "      <td>&gt;=30 and &lt;60</td>\n",
       "    </tr>\n",
       "    <tr>\n",
       "      <th>4</th>\n",
       "      <td>000006</td>\n",
       "      <td>female</td>\n",
       "      <td>Asian</td>\n",
       "      <td>59</td>\n",
       "      <td>000006_female_Asian_59</td>\n",
       "      <td>&gt;=30 and &lt;60</td>\n",
       "    </tr>\n",
       "  </tbody>\n",
       "</table>\n",
       "</div>"
      ],
      "text/plain": [
       "       id  gender   race  age                    path     age_group\n",
       "0  000001  female  Asian   45  000001_female_Asian_45  >=30 and <60\n",
       "1  000002  female  Asian   52  000002_female_Asian_52  >=30 and <60\n",
       "2  000004    male  Asian   54    000004_male_Asian_54  >=30 and <60\n",
       "3  000005  female  Asian   58  000005_female_Asian_58  >=30 and <60\n",
       "4  000006  female  Asian   59  000006_female_Asian_59  >=30 and <60"
      ]
     },
     "execution_count": 385,
     "metadata": {},
     "output_type": "execute_result"
    }
   ],
   "source": [
    "train_df.head()"
   ]
  },
  {
   "cell_type": "markdown",
   "id": "700aeeb8",
   "metadata": {},
   "source": [
    "---\n",
    "---\n",
    "# 2. `.csv` file 확인"
   ]
  },
  {
   "cell_type": "markdown",
   "id": "300f1fa7",
   "metadata": {},
   "source": [
    "## 2-1. gender"
   ]
  },
  {
   "cell_type": "code",
   "execution_count": 386,
   "id": "a1eb30e7",
   "metadata": {},
   "outputs": [
    {
     "name": "stdout",
     "output_type": "stream",
     "text": [
      "values: ['female' 'male']\n"
     ]
    }
   ],
   "source": [
    "print(f'values: {train_df.gender.unique()}')"
   ]
  },
  {
   "cell_type": "code",
   "execution_count": 387,
   "id": "e77c4dc5",
   "metadata": {},
   "outputs": [
    {
     "data": {
      "text/plain": [
       "female    1655\n",
       "male      1045\n",
       "Name: gender, dtype: int64"
      ]
     },
     "execution_count": 387,
     "metadata": {},
     "output_type": "execute_result"
    }
   ],
   "source": [
    "train_df.gender.value_counts()"
   ]
  },
  {
   "cell_type": "code",
   "execution_count": 388,
   "id": "25f36cc3",
   "metadata": {},
   "outputs": [
    {
     "data": {
      "image/png": "[encoded data removed]",
      "text/plain": [
       "<Figure size 432x288 with 1 Axes>"
      ]
     },
     "metadata": {
      "needs_background": "light"
     },
     "output_type": "display_data"
    }
   ],
   "source": [
    "# color palette: https://seaborn.pydata.org/tutorial/color_palettes.html\n",
    "# 성별을 색상으로 매칭할 수 있게끔 여성 - 빨강, 남성 - 파랑 으로 나오는 palette...(매번 바꾸긴 귀찮으니..)\n",
    "\n",
    "sns.countplot(x='gender', data=train_df, palette='hls');"
   ]
  },
  {
   "cell_type": "markdown",
   "id": "7e5b5286",
   "metadata": {},
   "source": [
    "> 여성이 1.6배정도 더 많다."
   ]
  },
  {
   "cell_type": "markdown",
   "id": "acfada25",
   "metadata": {},
   "source": [
    "## 2-2. Race"
   ]
  },
  {
   "cell_type": "code",
   "execution_count": 389,
   "id": "0cd96990",
   "metadata": {},
   "outputs": [
    {
     "name": "stdout",
     "output_type": "stream",
     "text": [
      "values: ['Asian']\n"
     ]
    }
   ],
   "source": [
    "print(f'values: {train_df.race.unique()}')"
   ]
  },
  {
   "cell_type": "code",
   "execution_count": 390,
   "id": "a4836621",
   "metadata": {},
   "outputs": [
    {
     "data": {
      "text/plain": [
       "2700"
      ]
     },
     "execution_count": 390,
     "metadata": {},
     "output_type": "execute_result"
    }
   ],
   "source": [
    "train_df.race.count()"
   ]
  },
  {
   "cell_type": "markdown",
   "id": "c0397e3a",
   "metadata": {},
   "source": [
    "> Asian 밖에 없다"
   ]
  },
  {
   "cell_type": "markdown",
   "id": "deff3aa3",
   "metadata": {},
   "source": [
    "## 2-3. Age"
   ]
  },
  {
   "cell_type": "markdown",
   "id": "f6f0e531",
   "metadata": {},
   "source": [
    "### 2-3-1. Age로 보기"
   ]
  },
  {
   "cell_type": "code",
   "execution_count": 391,
   "id": "f0ccc737",
   "metadata": {},
   "outputs": [
    {
     "data": {
      "image/png": "[encoded data removed]",
      "text/plain": [
       "<Figure size 432x288 with 1 Axes>"
      ]
     },
     "metadata": {
      "needs_background": "light"
     },
     "output_type": "display_data"
    }
   ],
   "source": [
    "plt.title(\"Age\")\n",
    "sns.histplot(train_df, x = 'age', palette='hls');"
   ]
  },
  {
   "cell_type": "code",
   "execution_count": 392,
   "id": "8ba0e319",
   "metadata": {
    "scrolled": true
   },
   "outputs": [
    {
     "data": {
      "image/png": "[encoded data removed]",
      "text/plain": [
       "<Figure size 432x288 with 1 Axes>"
      ]
     },
     "metadata": {
      "needs_background": "light"
     },
     "output_type": "display_data"
    }
   ],
   "source": [
    "plt.title(\"Age\")\n",
    "sns.histplot(data = train_df,x = 'age', hue='gender', multiple = 'stack', palette='hls',kde=True);"
   ]
  },
  {
   "cell_type": "code",
   "execution_count": 393,
   "id": "90538581",
   "metadata": {
    "scrolled": false
   },
   "outputs": [
    {
     "data": {
      "image/png": "[encoded data removed]",
      "text/plain": [
       "<Figure size 864x216 with 2 Axes>"
      ]
     },
     "metadata": {
      "needs_background": "light"
     },
     "output_type": "display_data"
    }
   ],
   "source": [
    "fig, ax = plt.subplots(figsize=(12,3),ncols = 2)\n",
    "ax[0].set_title('Male - gender')\n",
    "ax[1].set_title('Female - gender')\n",
    "\n",
    "sns.histplot(data = train_df[train_df['gender']=='male'],x = 'age', hue='gender', multiple = 'stack',ax=ax[0])\n",
    "sns.histplot(data = train_df[train_df['gender']=='female'],x = 'age', hue='gender', multiple = 'stack', palette='hls',ax=ax[1]);"
   ]
  },
  {
   "cell_type": "code",
   "execution_count": 394,
   "id": "3e0ca23b",
   "metadata": {},
   "outputs": [
    {
     "data": {
      "image/png": "[encoded data removed]",
      "text/plain": [
       "<Figure size 1008x360 with 2 Axes>"
      ]
     },
     "metadata": {
      "needs_background": "light"
     },
     "output_type": "display_data"
    }
   ],
   "source": [
    "# boxplot에 평균 marker: https://datavizpyr.com/show-mean-mark-on-boxplot-using-seaborn-in-python/\n",
    "\n",
    "fig, ax = plt.subplots(figsize=(14,5),ncols = 2)\n",
    "ax=sns.violinplot(data=train_df, x=\"gender\", y=\"age\",palette='hls',ax=ax[0])\n",
    "\n",
    "ax=sns.boxplot(data=train_df, x=\"gender\", y=\"age\",\n",
    "            showmeans=True,\n",
    "            meanprops={\"marker\":\"o\",\n",
    "                       \"markerfacecolor\":\"white\", \n",
    "                       \"markeredgecolor\":\"black\",\n",
    "                      \"markersize\":\"5\"},\n",
    "            palette='hls');"
   ]
  },
  {
   "cell_type": "markdown",
   "id": "34d2142c",
   "metadata": {},
   "source": [
    "> - 나이는 60세가 최대이다.\n",
    ">   - `60>=` group에 속하는 경우 60세이다\n",
    "> - 남성과 여성의 분포 graph는 대체적으로 비슷하나, 여성 데이터가 더 많다\n",
    "> - 중앙값은 차이가 많이 나지만, 평균은 큰 차이가 나지 않는다.(group으로 보면 같은 group에 속한다.)\n",
    ">  - 중앙값에 있어서 차이가 나지만, 이는 30~60세 여성 data가 많아서 그런 것으로 예상 (2-3-2 참고)"
   ]
  },
  {
   "cell_type": "markdown",
   "id": "3b314b21",
   "metadata": {},
   "source": [
    "### 2-3-2. Age group으로 보기"
   ]
  },
  {
   "cell_type": "code",
   "execution_count": 395,
   "id": "08488fd3",
   "metadata": {},
   "outputs": [
    {
     "data": {
      "text/plain": [
       "<30             1281\n",
       ">=30 and <60    1227\n",
       ">=60             192\n",
       "Name: age_group, dtype: int64"
      ]
     },
     "execution_count": 395,
     "metadata": {},
     "output_type": "execute_result"
    }
   ],
   "source": [
    "train_df.age_group.value_counts()"
   ]
  },
  {
   "cell_type": "code",
   "execution_count": 396,
   "id": "f4648602",
   "metadata": {},
   "outputs": [
    {
     "data": {
      "image/png": "[encoded data removed]",
      "text/plain": [
       "<Figure size 432x288 with 1 Axes>"
      ]
     },
     "metadata": {
      "needs_background": "light"
     },
     "output_type": "display_data"
    }
   ],
   "source": [
    "plt.title(\"Age group\")\n",
    "ax = sns.countplot(data=train_df,x = 'age_group', palette='hls')\n",
    "plt.xlabel('')\n",
    "\n",
    "# % 나타내기\n",
    "counts = train_df.age_group.value_counts()\n",
    "counts[0],counts[1]=counts[1],counts[0]\n",
    "counts_pct = [f'{pct*100:.2f}%' for pct in counts/counts.sum()]\n",
    "for idx, value in enumerate(counts_pct):\n",
    "    ax.text(idx, 100, value, ha='center', size=15, color='w', fontweight='bold');\n",
    "    \n"
   ]
  },
  {
   "cell_type": "raw",
   "id": "f1f54c62",
   "metadata": {},
   "source": [
    "> 60세 이상(60세)가 현져히 적다"
   ]
  },
  {
   "cell_type": "code",
   "execution_count": 410,
   "id": "fe9bd9bc",
   "metadata": {},
   "outputs": [
    {
     "data": {
      "image/png": "[encoded data removed]",
      "text/plain": [
       "<Figure size 432x288 with 1 Axes>"
      ]
     },
     "metadata": {
      "needs_background": "light"
     },
     "output_type": "display_data"
    }
   ],
   "source": [
    "plt.title(\"Age group\")\n",
    "ax = sns.histplot(data = train_df,x = 'age_group', hue='gender', multiple = 'stack',palette='hls') #kde=True)\n",
    "\n",
    "\n",
    "# % 표시\n",
    "age_count= list(train_df.age_group.value_counts())\n",
    "age_count[0],age_count[1]=age_count[1],age_count[0]\n",
    "\n",
    "for i,p in enumerate(ax.patches):\n",
    "    txt = str(((p.get_height() / (age_count[i%3]))*100).round(1)) + '%'\n",
    "    txt_x = p.get_x()\n",
    "    txt_y = p.get_height() if i//3 ==0 else age_count[i%3]+10\n",
    "    ax.text(txt_x,txt_y,txt,horizontalalignment='left',size=10,fontweight ='bold')"
   ]
  },
  {
   "cell_type": "code",
   "execution_count": 398,
   "id": "eb162634",
   "metadata": {},
   "outputs": [
    {
     "data": {
      "image/png": "[encoded data removed]",
      "text/plain": [
       "<Figure size 864x360 with 3 Axes>"
      ]
     },
     "metadata": {
      "needs_background": "light"
     },
     "output_type": "display_data"
    }
   ],
   "source": [
    "\n",
    "fig, ax = plt.subplots(figsize=(12,5),ncols = 3)\n",
    "\n",
    "ax[0].set_title('All - age groups')\n",
    "ax[1].set_title('Male - age groups')\n",
    "ax[2].set_title('Female - age groups')\n",
    "\n",
    "sns.boxplot( data = train_df, x='age_group',y='age',\n",
    "            showmeans=True,\n",
    "            meanprops={\"marker\":\"o\",\n",
    "                       \"markerfacecolor\":\"white\", \n",
    "                       \"markeredgecolor\":\"black\",\n",
    "                      \"markersize\":\"5\"},\n",
    "            palette='hls',ax=ax[0])\n",
    "\n",
    "sns.boxplot( data = train_df[train_df['gender']=='male'],\n",
    "            x='age_group',y='age',\n",
    "            showmeans=True,\n",
    "            meanprops={\"marker\":\"o\",\n",
    "                       \"markerfacecolor\":\"white\", \n",
    "                       \"markeredgecolor\":\"black\",\n",
    "                      \"markersize\":\"5\"},\n",
    "            palette='hls',ax=ax[1])\n",
    "\n",
    "sns.boxplot( data = train_df[train_df['gender']=='female'],\n",
    "            showmeans=True,\n",
    "            meanprops={\"marker\":\"o\",\n",
    "                       \"markerfacecolor\":\"white\", \n",
    "                       \"markeredgecolor\":\"black\",\n",
    "                      \"markersize\":\"5\"},\n",
    "            x='age_group',y='age',\n",
    "            palette='hls',ax=ax[2]);\n"
   ]
  },
  {
   "cell_type": "markdown",
   "id": "833011ed",
   "metadata": {},
   "source": [
    "> - age group에서 60세 이상에 속하는 사람은 60세 뿐이다\n",
    "> - 전체 분포, 남성, 여성의 분포가 <30을 제외하고 거의 비슷하다. 묶어서 해보는 것도 좋은 시도일 것 같다.\n",
    "> - 그러나 dataset에서 여성의 나이 그룹 비중의 경우 30~60의 비중이 커서 따로 하는 것이 더 나을 것 같기도? "
   ]
  },
  {
   "cell_type": "markdown",
   "id": "9844a570",
   "metadata": {},
   "source": [
    "### 2-3-3 생각해 볼 것\n",
    " - 성별을 나눈 후 나이를 그 안에서 또 볼 필요 없이 전체 데이터에서 해도 될 것 같다. (성별에 따른 나이 분포가 비슷)\n",
    " - 나이 예측시 처음부터 **`3개 그룹에 대한 classification`** 문제로 갈지 or **`나이 예측 한 후 group`** 으로 변경시킬지?\n",
    " - 60대라고 하기엔 60살밖에 없음, data가 너무 적다. --> `50 -> 60살로 넘어갈 때의 차이는 뭘까?` *이미지를 봐야할 듯*\n",
    " - 아니면 같은 label을 가진 사람끼리 cutmix를 해서 60대의 data를 늘려야 할 것 같다."
   ]
  },
  {
   "cell_type": "markdown",
   "id": "1ed199fc",
   "metadata": {},
   "source": [
    "---\n",
    "---\n",
    "# 3. 이미지 file 확인"
   ]
  },
  {
   "cell_type": "markdown",
   "id": "f98b0568",
   "metadata": {},
   "source": [
    "Wear:Incorrect:Not Wear = 5:1:1"
   ]
  },
  {
   "cell_type": "markdown",
   "id": "3c976824",
   "metadata": {},
   "source": [
    "## 3-1. Class 생성 및 분포 파악\n",
    "- 제시된 class의 순서대로 list를 만든다\n",
    "\n",
    "<img src = \"https://user-images.githubusercontent.com/45448731/130486051-4feed5f2-a7fd-47c0-a824-0ece510dbf59.png\" width=\"500px\">\n"
   ]
  },
  {
   "cell_type": "code",
   "execution_count": 399,
   "id": "1193c13e",
   "metadata": {},
   "outputs": [
    {
     "data": {
      "text/plain": [
       "[('Wear', 'male', '<30'),\n",
       " ('Wear', 'male', '>=30 and <60'),\n",
       " ('Wear', 'male', '>=60'),\n",
       " ('Wear', 'female', '<30'),\n",
       " ('Wear', 'female', '>=30 and <60'),\n",
       " ('Wear', 'female', '>=60'),\n",
       " ('Incorrect', 'male', '<30'),\n",
       " ('Incorrect', 'male', '>=30 and <60'),\n",
       " ('Incorrect', 'male', '>=60'),\n",
       " ('Incorrect', 'female', '<30'),\n",
       " ('Incorrect', 'female', '>=30 and <60'),\n",
       " ('Incorrect', 'female', '>=60'),\n",
       " ('Not Wear', 'male', '<30'),\n",
       " ('Not Wear', 'male', '>=30 and <60'),\n",
       " ('Not Wear', 'male', '>=60'),\n",
       " ('Not Wear', 'female', '<30'),\n",
       " ('Not Wear', 'female', '>=30 and <60'),\n",
       " ('Not Wear', 'female', '>=60')]"
      ]
     },
     "execution_count": 399,
     "metadata": {},
     "output_type": "execute_result"
    }
   ],
   "source": [
    "# product 사용법: https://xzio.tistory.com/1694\n",
    "\n",
    "mask = ['Wear', 'Incorrect', 'Not Wear']\n",
    "gender= ['male', 'female']\n",
    "age_group = ['<30', '>=30 and <60', '>=60']\n",
    "\n",
    "class_ = list(product(mask, gender, age_group))\n",
    "class_"
   ]
  },
  {
   "cell_type": "code",
   "execution_count": 400,
   "id": "eb6025ad",
   "metadata": {},
   "outputs": [],
   "source": [
    "# 새로운 df 생성 : https://wikidocs.net/4367\n",
    "\n",
    "raw_data={'class_num':[],'count':[]}\n",
    "for i, (mask, gender, age) in enumerate(class_):\n",
    "    count =train_df[(train_df['gender'] == gender) & (train_df['age_group']==age)].shape[0]\n",
    "    if mask=='Wear':\n",
    "        count = count*5 # wear: 5개\n",
    "    raw_data['class_num'].append(i)\n",
    "    raw_data['count'].append(count)"
   ]
  },
  {
   "cell_type": "code",
   "execution_count": 401,
   "id": "d0c323f9",
   "metadata": {},
   "outputs": [
    {
     "data": {
      "text/html": [
       "<div>\n",
       "<style scoped>\n",
       "    .dataframe tbody tr th:only-of-type {\n",
       "        vertical-align: middle;\n",
       "    }\n",
       "\n",
       "    .dataframe tbody tr th {\n",
       "        vertical-align: top;\n",
       "    }\n",
       "\n",
       "    .dataframe thead th {\n",
       "        text-align: right;\n",
       "    }\n",
       "</style>\n",
       "<table border=\"1\" class=\"dataframe\">\n",
       "  <thead>\n",
       "    <tr style=\"text-align: right;\">\n",
       "      <th></th>\n",
       "      <th>class_num</th>\n",
       "      <th>count</th>\n",
       "    </tr>\n",
       "  </thead>\n",
       "  <tbody>\n",
       "    <tr>\n",
       "      <th>0</th>\n",
       "      <td>0</td>\n",
       "      <td>2765</td>\n",
       "    </tr>\n",
       "    <tr>\n",
       "      <th>1</th>\n",
       "      <td>1</td>\n",
       "      <td>2045</td>\n",
       "    </tr>\n",
       "    <tr>\n",
       "      <th>2</th>\n",
       "      <td>2</td>\n",
       "      <td>415</td>\n",
       "    </tr>\n",
       "    <tr>\n",
       "      <th>3</th>\n",
       "      <td>3</td>\n",
       "      <td>3640</td>\n",
       "    </tr>\n",
       "    <tr>\n",
       "      <th>4</th>\n",
       "      <td>4</td>\n",
       "      <td>4090</td>\n",
       "    </tr>\n",
       "    <tr>\n",
       "      <th>5</th>\n",
       "      <td>5</td>\n",
       "      <td>545</td>\n",
       "    </tr>\n",
       "    <tr>\n",
       "      <th>6</th>\n",
       "      <td>6</td>\n",
       "      <td>553</td>\n",
       "    </tr>\n",
       "    <tr>\n",
       "      <th>7</th>\n",
       "      <td>7</td>\n",
       "      <td>409</td>\n",
       "    </tr>\n",
       "    <tr>\n",
       "      <th>8</th>\n",
       "      <td>8</td>\n",
       "      <td>83</td>\n",
       "    </tr>\n",
       "    <tr>\n",
       "      <th>9</th>\n",
       "      <td>9</td>\n",
       "      <td>728</td>\n",
       "    </tr>\n",
       "    <tr>\n",
       "      <th>10</th>\n",
       "      <td>10</td>\n",
       "      <td>818</td>\n",
       "    </tr>\n",
       "    <tr>\n",
       "      <th>11</th>\n",
       "      <td>11</td>\n",
       "      <td>109</td>\n",
       "    </tr>\n",
       "    <tr>\n",
       "      <th>12</th>\n",
       "      <td>12</td>\n",
       "      <td>553</td>\n",
       "    </tr>\n",
       "    <tr>\n",
       "      <th>13</th>\n",
       "      <td>13</td>\n",
       "      <td>409</td>\n",
       "    </tr>\n",
       "    <tr>\n",
       "      <th>14</th>\n",
       "      <td>14</td>\n",
       "      <td>83</td>\n",
       "    </tr>\n",
       "    <tr>\n",
       "      <th>15</th>\n",
       "      <td>15</td>\n",
       "      <td>728</td>\n",
       "    </tr>\n",
       "    <tr>\n",
       "      <th>16</th>\n",
       "      <td>16</td>\n",
       "      <td>818</td>\n",
       "    </tr>\n",
       "    <tr>\n",
       "      <th>17</th>\n",
       "      <td>17</td>\n",
       "      <td>109</td>\n",
       "    </tr>\n",
       "  </tbody>\n",
       "</table>\n",
       "</div>"
      ],
      "text/plain": [
       "    class_num  count\n",
       "0           0   2765\n",
       "1           1   2045\n",
       "2           2    415\n",
       "3           3   3640\n",
       "4           4   4090\n",
       "5           5    545\n",
       "6           6    553\n",
       "7           7    409\n",
       "8           8     83\n",
       "9           9    728\n",
       "10         10    818\n",
       "11         11    109\n",
       "12         12    553\n",
       "13         13    409\n",
       "14         14     83\n",
       "15         15    728\n",
       "16         16    818\n",
       "17         17    109"
      ]
     },
     "execution_count": 401,
     "metadata": {},
     "output_type": "execute_result"
    }
   ],
   "source": [
    "count_class=pd.DataFrame(raw_data)\n",
    "count_class"
   ]
  },
  {
   "cell_type": "code",
   "execution_count": 402,
   "id": "fb0630cf",
   "metadata": {
    "scrolled": false
   },
   "outputs": [
    {
     "name": "stdout",
     "output_type": "stream",
     "text": [
      "2700\n"
     ]
    },
    {
     "data": {
      "image/png": "[encoded data removed]",
      "text/plain": [
       "<Figure size 864x504 with 1 Axes>"
      ]
     },
     "metadata": {
      "needs_background": "light"
     },
     "output_type": "display_data"
    }
   ],
   "source": [
    "print(counts.sum())\n",
    "fig = plt.subplots(figsize=(12,7))\n",
    "\n",
    "plt.title(\"Class distribution\")\n",
    "ax = sns.barplot(x = count_class['class_num'],y=count_class['count'],palette='hls') #kde=True)\n",
    "plt.xlabel('')\n",
    "\n",
    "# % 나타내기\n",
    "counts = count_class['count']\n",
    "counts_pct = [f'{pct*100:.2f}%' for pct in counts/counts.sum()]\n",
    "for idx, value in enumerate(counts_pct):\n",
    "    ax.text(idx, count_class['count'][idx]+10, value, ha='center', size=10);\n",
    "\n"
   ]
  },
  {
   "cell_type": "markdown",
   "id": "507a54ec",
   "metadata": {},
   "source": [
    "> class 불균형이 심하다..!! 60세 이상은 완전 차이난다..\n",
    "> 성별, 나이, 착용여부 쪼개기(18개 class 말고)\n",
    "#### 시도해볼만한 방법?\n",
    "  - Cycle GAN으로 이미지 생성\n",
    "  - https://dining-developer.tistory.com/27\n",
    "      - under/over sampling\n",
    "      - Cost-sensitive learning\n",
    "      - SMOTE\n",
    "      - ADASYN (SMOTE의 개선된 버전) - cost에 가중치를 더 많이 줌\n",
    "  "
   ]
  },
  {
   "cell_type": "markdown",
   "id": "e4cc1adb",
   "metadata": {},
   "source": [
    "## 3-2. 이미지 확인"
   ]
  },
  {
   "cell_type": "code",
   "execution_count": 405,
   "id": "2bf1bf3b",
   "metadata": {
    "scrolled": false
   },
   "outputs": [],
   "source": [
    "# slack 시각화 게시판 코드 참고\n",
    "def print_image(startnum,num_people=10):\n",
    "        image_folder_path = f'{data_path}train/images/'\n",
    "        file_name=['normal','incorrect_mask','mask1','mask2','mask3','mask4','mask5']\n",
    "        fig,axes = plt.subplots(num_people,7, figsize=(10,num_people*2),dpi=150)\n",
    "        for j in range(startnum,startnum+num_people):\n",
    "            sample = train_df[startnum:startnum+num_people].loc[j]\n",
    "            sample =list(sample)\n",
    "            path = sample[4]\n",
    "            sample_path = os.path.join(image_folder_path,path)\n",
    "            file_extension = os.listdir(sample_path)[0].split('.')[-1] #확장자 가져오기\n",
    "\n",
    "            sample_split=path.split('_')\n",
    "            print(sample_split)\n",
    "            \n",
    "            for i , name in enumerate(file_name):\n",
    "                image_path=os.path.join(sample_path,f'{name}.{file_extension}')\n",
    "                image=img.imread(image_path)\n",
    "                axes[j-startnum][i].imshow(image)\n",
    "                axes[j-startnum][i].axis('off')\n",
    "                axes[j-startnum][i].set_title(f'{name[0]}_{sample_split[1][0]}_{sample_split[3]}')\n",
    "            \n",
    "        plt.show()"
   ]
  },
  {
   "cell_type": "markdown",
   "id": "2052486b",
   "metadata": {
    "scrolled": true
   },
   "source": [
    "`print_image(170,3) # 시작 번호/몇개출력?`\n",
    "\n",
    "### 사진 공개하면 안되어서 지움"
   ]
  },
  {
   "cell_type": "markdown",
   "id": "6ca4d2b4",
   "metadata": {},
   "source": [
    "### 시각화 결과 수정해야 할 Data는 다음과 같다.\n",
    "|mask labeling error:<br> normal과 incorrect 서로 바꾸기|변경 여부|\n",
    "|:---:|:---:|\n",
    "000020|o\n",
    "004418|o\n",
    "005227|o\n",
    "\n",
    "|male 라고 되어있는 것 female 로 변경|변경 여부|\n",
    "|:---:|:---:|\n",
    "001498-1|o\n",
    "001200|o\n",
    "004432|o\n",
    "\n",
    "|female 라고 되어있는 것 male 로 변경|변경 여부|\n",
    "|:---:|:---:|\n",
    "|006359|o\n",
    "|006360|o\n",
    "|006361|o\n",
    "|006362|o\n",
    "|006363|o\n",
    "|006364|o\n",
    "\n",
    "|중복 이름|변경 이름|변경 여부|\n",
    "|:---:|:---:|:---:|\n",
    "|003397_female_Asian_20|007000_female_Asian_20|o|\n",
    "\n",
    "기타 issue: 006578,6580_female_Asian_20 - mask5를 jpeg로 변경 (나머지는 .jpg임), \n",
    "\n",
    "이 data들을 변경하고 EDA를 다시 실행하자!!"
   ]
  },
  {
   "cell_type": "markdown",
   "id": "77560154",
   "metadata": {},
   "source": [
    "---\n",
    "### image에 대한 기타 issue (나: 0~899번 폴더까지 봄) (사진 지움)\n",
    "####  각도 (001252)\n",
    "<!--![image](https://user-images.githubusercontent.com/45448731/130567559-e7a60569-b6c0-4762-81ab-5e8daac94104.png)-->\n",
    "- 내가 본 이미지 중에 normal이 정면이 아닌 사진 존재\n",
    "\n",
    "\n",
    "#### 명암(001225)\n",
    "<!--![image](https://user-images.githubusercontent.com/45448731/130573415-9d2d5860-dd37-447b-858b-b54e482ef3cc.png)-->\n",
    "- 얼굴 명암이 심하게 진사진 존재\n",
    "\n",
    "\n",
    "#### 밝기\n",
    "<!--![image](https://user-images.githubusercontent.com/45448731/130573537-bf9407a8-9bfa-4e1f-8c6d-1aecfc6f3338.png)-->\n",
    "- 이미지 중 밝기 다른 이미지 존재\n",
    "\n",
    "\n",
    "#### 얼굴 size\n",
    "<!--![image](https://user-images.githubusercontent.com/45448731/130573524-7bbe19e5-a9b6-4bf8-ae58-f9f653a01c63.png)-->\n",
    "- 꼭 상반신이 나오지는 않음. 얼굴이 중앙에 위치하지 않을 때도 있음\n",
    "- 같은 사람이라도 얼굴이 비슷한 사이즈로 잡힌 것이 아니라 앞-뒤로 왔다갔다 거리는 것이 있음\n",
    "  - centercrop 못할수도? 얼굴이 위로 올라가서 머리카락이 잘리는것도있음\n",
    "\n",
    "#### 머리 style\n",
    "<!--![image](https://user-images.githubusercontent.com/45448731/130573853-5c14fa5c-dc7a-4224-940d-82946a5a62a4.png)-->\n",
    "- 머리가 어떤 영향을 미칠지는 모르겠지만.... 이런 경우도 있음\n",
    "- 머리가 짧으면 male로 구분하지 않을까? 하는 의문 존재 -> 머리 묶었을 때, 머리 짧은 할머니들(눈으로 봐도 모르겠을 때도 있음)\n",
    "\n",
    "#### mask 착용\n",
    "- 콧구멍만 살짝 가려졌을 때도 있음 ( 잘 착용한 것과 잘 구분되지 않음)\n",
    "- 코를 덮지 않음\n",
    "- 입, 턱만 가림\n",
    "- 코, 입만 가림 (턱은 보임)\n",
    "- 눈을 가림\n",
    "- 눈, 코, 입 가림 (성별구분?잘될까)\n",
    "\n",
    "#### mask의 색상\n",
    "- mask 1~5가 같을거라고 생각했지만, 그냥 붙여진 번호인 듯\n",
    "- 검정색, 파란색, 흰색, 분홍색, 노란색, 패턴. 중복되는 색상이 있을 때도 있음\n",
    "- 패턴의 경우 매우 다양함\n",
    "- 마스크가 아니라 두건?손수건? 같은것도 있음"
   ]
  },
  {
   "cell_type": "markdown",
   "id": "036a08a4",
   "metadata": {},
   "source": [
    "# 4. 결론"
   ]
  },
  {
   "cell_type": "markdown",
   "id": "c1d1bc2b",
   "metadata": {},
   "source": [
    "- Data 비율\n",
    "\n",
    "  - female : male = 1.6 : 1\n",
    "  \n",
    "  - <30 : >=30 and <60 : >=60 = 47.45 : 45.45 : 7.1\n",
    "\n",
    "\n",
    "- Age관련 시도해볼만 한 것\n",
    "  - 같은 label을 가진 사람끼리 cutmix를 해보는 것은 어떨까?\n",
    "\n",
    "  - 55~59 나이대 사람들 반정도(or random)를 data imbalance 해소를 위해 60대로 학습시켜보는 것은 어떨까?\n",
    "    - 60대라고 하기엔 60살밖에 없음. 50살에서 60살로 넘어갔을때의 차이는 뭘까? 잘 모르겠어서..\n",
    "\n",
    "\n",
    "  - 성별 data를 나누어서 해보는 것은 어떨까?\n",
    "    - 성별,female:age, male:age, 마스크 검출 이렇게 4번 실험\n",
    "    \n",
    "  - 나이를 예측한 후 group으로 변경시키는 것은 어떨까?\n",
    "    - data가 너무 적나...\n",
    "\n",
    "- Mask 관련 시도해볼만한 것\n",
    "\n",
    "  - mask data를 흑백으로 해서 분류해보는것은? (색깔이 여러개)\n",
    "    - 사람이 쓴 것을 고려하면 색깔 놔두는게 나으려나..?\n",
    "    \n",
    "  - 내가 가지고 있는 잘쓴/잘못쓴 data 적용\n",
    " \n",
    "  \n",
    "- Data Imbalance 문제 해결이 필요하다.\n",
    "\n",
    "    - under/over sampling\n",
    "    \n",
    "    - cost-sensitivie learning\n",
    "    \n",
    "    - SMOTE\n",
    "    \n",
    "    - ADASYN\n",
    "    \n",
    "    \n",
    "- Data Augmentation\n",
    "\n",
    "    - Cycle Gan으로 얼굴생성\n",
    "    \n",
    "    - 명암과 밝기 -> test dataset에 있을 수도 있으므로 augmentation에서 추가해볼 만 할듯\n",
    "    \n",
    "    - 얼굴 size -> centercrop을 해서 얼굴이 잘릴수도 있을듯(일부지만)\n",
    "\n",
    "    "
   ]
  },
  {
   "cell_type": "code",
   "execution_count": null,
   "id": "7deeb4b1",
   "metadata": {},
   "outputs": [],
   "source": []
  }
 ],
 "metadata": {
  "kernelspec": {
   "display_name": "Python 3 (ipykernel)",
   "language": "python",
   "name": "python3"
  },
  "language_info": {
   "codemirror_mode": {
    "name": "ipython",
    "version": 3
   },
   "file_extension": ".py",
   "mimetype": "text/x-python",
   "name": "python",
   "nbconvert_exporter": "python",
   "pygments_lexer": "ipython3",
   "version": "3.8.5"
  }
 },
 "nbformat": 4,
 "nbformat_minor": 5
}
